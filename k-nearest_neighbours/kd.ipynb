{
 "cells": [
  {
   "cell_type": "code",
   "execution_count": 1,
   "id": "60f6dadf-9544-4403-bab6-714b4925d8de",
   "metadata": {},
   "outputs": [],
   "source": [
    "from sklearn.neighbors import KNeighborsClassifier\n",
    "from sklearn.model_selection import train_test_split\n",
    "import pandas as pd\n",
    "from sklearn import preprocessing "
   ]
  },
  {
   "cell_type": "code",
   "execution_count": 2,
   "id": "1b517c78-66af-440f-87bd-52c8d5f374f0",
   "metadata": {},
   "outputs": [],
   "source": [
    "# Read the Dataset\n",
    "dataset = pd.read_csv(\"~/fun/ai_notebooks/iris.csv\")\n",
    "label_encoder = preprocessing.LabelEncoder()\n",
    "dataset[\"species\"]= label_encoder.fit_transform(dataset[\"Species\"])"
   ]
  },
  {
   "cell_type": "code",
   "execution_count": 3,
   "id": "667f2a91-b7ce-4578-804f-a5d4fd22e2da",
   "metadata": {},
   "outputs": [
    {
     "name": "stdout",
     "output_type": "stream",
     "text": [
      "The accuracy on test set is 0.98\n"
     ]
    }
   ],
   "source": [
    "# Separating the Input and Output Columns\n",
    "X = dataset[[\"SepalLengthCm\", \"SepalWidthCm\", \"PetalLengthCm\", \"PetalWidthCm\"]]\n",
    "y = dataset[\"Species\"]\n",
    "X_train, X_test, y_train, y_test = train_test_split(X, y, random_state=0, train_size=0.7)\n",
    "neigh = KNeighborsClassifier(n_neighbors=3,algorithm=\"kd_tree\")\n",
    "clf = neigh.fit(X_train, y_train)\n",
    "print(\"The accuracy on test set is {0:.2f}\".format(clf.score(X_test, y_test)))"
   ]
  },
  {
   "cell_type": "code",
   "execution_count": 4,
   "id": "a7536850-c8be-4736-9a7f-5ec513770c79",
   "metadata": {},
   "outputs": [
    {
     "name": "stdout",
     "output_type": "stream",
     "text": [
      "      Id  SepalLengthCm  SepalWidthCm  PetalLengthCm  PetalWidthCm  \\\n",
      "0      1            5.1           3.5            1.4           0.2   \n",
      "1      2            4.9           3.0            1.4           0.2   \n",
      "2      3            4.7           3.2            1.3           0.2   \n",
      "3      4            4.6           3.1            1.5           0.2   \n",
      "4      5            5.0           3.6            1.4           0.2   \n",
      "..   ...            ...           ...            ...           ...   \n",
      "145  146            6.7           3.0            5.2           2.3   \n",
      "146  147            6.3           2.5            5.0           1.9   \n",
      "147  148            6.5           3.0            5.2           2.0   \n",
      "148  149            6.2           3.4            5.4           2.3   \n",
      "149  150            5.9           3.0            5.1           1.8   \n",
      "\n",
      "            Species  species  \n",
      "0       Iris-setosa        0  \n",
      "1       Iris-setosa        0  \n",
      "2       Iris-setosa        0  \n",
      "3       Iris-setosa        0  \n",
      "4       Iris-setosa        0  \n",
      "..              ...      ...  \n",
      "145  Iris-virginica        2  \n",
      "146  Iris-virginica        2  \n",
      "147  Iris-virginica        2  \n",
      "148  Iris-virginica        2  \n",
      "149  Iris-virginica        2  \n",
      "\n",
      "[150 rows x 7 columns]\n"
     ]
    }
   ],
   "source": [
    "print(dataset)"
   ]
  },
  {
   "cell_type": "code",
   "execution_count": null,
   "id": "e6a4b0d1-4f7c-4019-9a82-79c71007a854",
   "metadata": {},
   "outputs": [],
   "source": []
  }
 ],
 "metadata": {
  "kernelspec": {
   "display_name": "Python 3 (ipykernel)",
   "language": "python",
   "name": "python3"
  },
  "language_info": {
   "codemirror_mode": {
    "name": "ipython",
    "version": 3
   },
   "file_extension": ".py",
   "mimetype": "text/x-python",
   "name": "python",
   "nbconvert_exporter": "python",
   "pygments_lexer": "ipython3",
   "version": "3.9.7"
  }
 },
 "nbformat": 4,
 "nbformat_minor": 5
}
