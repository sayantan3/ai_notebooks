{
 "cells": [
  {
   "cell_type": "code",
   "execution_count": 1,
   "id": "67eae09d",
   "metadata": {},
   "outputs": [],
   "source": [
    "import math\n",
    "import numpy as np \n",
    "import matplotlib.pyplot as plt\n",
    "%matplotlib inline"
   ]
  },
  {
   "cell_type": "code",
   "execution_count": 2,
   "id": "6f92e755",
   "metadata": {},
   "outputs": [],
   "source": [
    "def f(x):\n",
    "    return 3 * x**2 - 4 * x + 5"
   ]
  },
  {
   "cell_type": "code",
   "execution_count": 3,
   "id": "de5a6b7c",
   "metadata": {},
   "outputs": [
    {
     "data": {
      "text/plain": [
       "20.0"
      ]
     },
     "execution_count": 3,
     "metadata": {},
     "output_type": "execute_result"
    }
   ],
   "source": [
    "f(3.0)"
   ]
  },
  {
   "cell_type": "code",
   "execution_count": 4,
   "id": "03a24630",
   "metadata": {},
   "outputs": [
    {
     "data": {
      "text/plain": [
       "[<matplotlib.lines.Line2D at 0x1068ec4f0>]"
      ]
     },
     "execution_count": 4,
     "metadata": {},
     "output_type": "execute_result"
    },
    {
     "data": {
      "image/png": "[encoded data removed]",
      "text/plain": [
       "<Figure size 432x288 with 1 Axes>"
      ]
     },
     "metadata": {
      "needs_background": "light"
     },
     "output_type": "display_data"
    }
   ],
   "source": [
    "xs = np.arange(-5, 5, .2)\n",
    "ys = f(xs)\n",
    "plt.plot(xs, ys)"
   ]
  },
  {
   "cell_type": "code",
   "execution_count": 5,
   "id": "31517dfd",
   "metadata": {},
   "outputs": [
    {
     "data": {
      "text/plain": [
       "2.9753977059954195e-07"
      ]
     },
     "execution_count": 5,
     "metadata": {},
     "output_type": "execute_result"
    }
   ],
   "source": [
    "h = 0.0000001\n",
    "x = 2/3\n",
    "(f(x+h)-f(x))/h"
   ]
  },
  {
   "cell_type": "code",
   "execution_count": 6,
   "id": "857530e2",
   "metadata": {},
   "outputs": [
    {
     "name": "stdout",
     "output_type": "stream",
     "text": [
      "d1 4.0\n",
      "d2 4.000000099999999\n",
      "slope 0.999999993922529\n"
     ]
    }
   ],
   "source": [
    "#inputs\n",
    "a = 2.0\n",
    "b = -3.0\n",
    "c = 10.0\n",
    "\n",
    "d1 = a*b + c\n",
    "c += h\n",
    "d2 = a*b + c\n",
    "print('d1', d1)\n",
    "print('d2', d2)\n",
    "slope = (d2 - d1)/h\n",
    "print('slope', slope)"
   ]
  },
  {
   "cell_type": "code",
   "execution_count": 7,
   "id": "96533735",
   "metadata": {},
   "outputs": [
    {
     "data": {
      "text/plain": [
       "Value(data=-34.0)"
      ]
     },
     "execution_count": 7,
     "metadata": {},
     "output_type": "execute_result"
    }
   ],
   "source": [
    "class Value:\n",
    "    def __init__(self, data, _children=(), _op='', label=''):\n",
    "        self.data = data\n",
    "        self.grad = 0.0\n",
    "        self._backward = lambda:None\n",
    "        self._prev = set(_children)\n",
    "        self._op = _op\n",
    "        self.label = label\n",
    "    \n",
    "    def __repr__(self):\n",
    "        return f\"Value(data={self.data})\"\n",
    "    \n",
    "    def __add__(self, other):\n",
    "        out = Value(self.data + other.data, (self, other), '+')\n",
    "        def _backward(self, other):\n",
    "            self.grad += 1.0 * out.grad\n",
    "            other.grad += 1.0 * out.grad\n",
    "        out._backward = _backward\n",
    "        return out\n",
    "    \n",
    "    def __mul__(self, other):\n",
    "        out = Value(self.data * other.data, (self, other), '*')\n",
    "        def _backward(self, other):\n",
    "            self.grad += other.data * out.grad\n",
    "            other.grad += self.data * out.grad\n",
    "        out._backward = _backward\n",
    "        return out\n",
    "   \n",
    "    def tanh(self):\n",
    "        x = self.data\n",
    "        t = (math.exp(2*x) - 1)/(math.exp(2*x) + 1)\n",
    "        out = Value(t, (self, ), 'tanh')\n",
    "        \n",
    "        def _backward():\n",
    "            self.grad += (1 - t**2) * out.grad\n",
    "        out._backward = _backward\n",
    "        return out\n",
    "    \n",
    "a = Value(2.0, label = 'a')\n",
    "b = Value(-3.0, label = 'b')\n",
    "c = Value(10.0, label = 'c')\n",
    "e = a * c; e.label = 'e'\n",
    "d = e + b; d.label = 'd'\n",
    "f = Value(-2.0, label = 'f')\n",
    "L = d * f; L.label = 'L'\n",
    "L"
   ]
  },
  {
   "cell_type": "code",
   "execution_count": 8,
   "id": "e13f283a",
   "metadata": {},
   "outputs": [],
   "source": [
    "from graphviz import Digraph\n",
    "\n",
    "def trace(root):\n",
    "  # builds a set of all nodes and edges in a graph\n",
    "  nodes, edges = set(), set()\n",
    "  def build(v):\n",
    "    if v not in nodes:\n",
    "      nodes.add(v)\n",
    "      for child in v._prev:\n",
    "        edges.add((child, v))\n",
    "        build(child)\n",
    "  build(root)\n",
    "  return nodes, edges\n",
    "\n",
    "def draw_dot(root):\n",
    "  dot = Digraph(format='svg', graph_attr={'rankdir': 'LR'}) # LR = left to right\n",
    "  \n",
    "  nodes, edges = trace(root)\n",
    "  for n in nodes:\n",
    "    uid = str(id(n))\n",
    "    # for any value in` the graph, create a rectangular ('record') node for it\n",
    "    dot.node(name = uid, label = \"{ %s | data %.4f | grad %.4f }\" % (n.label, n.data, n.grad), shape='record')\n",
    "    if n._op:\n",
    "      # if this value is a result of some operation, create an op node for it\n",
    "      dot.node(name = uid + n._op, label = n._op)\n",
    "      # and connect this node to it\n",
    "      dot.edge(uid + n._op, uid)\n",
    "\n",
    "  for n1, n2 in edges:\n",
    "    # connect n1 to the op node of n2\n",
    "    dot.edge(str(id(n1)), str(id(n2)) + n2._op)\n",
    "\n",
    "  return dot\n"
   ]
  },
  {
   "cell_type": "code",
   "execution_count": 9,
   "id": "e2a0649b",
   "metadata": {},
   "outputs": [
    {
     "data": {
      "image/svg+xml": [
       "<?xml version=\"1.0\" encoding=\"UTF-8\" standalone=\"no\"?>\n",
       "<!DOCTYPE svg PUBLIC \"-//W3C//DTD SVG 1.1//EN\"\n",
       " \"http://www.w3.org/Graphics/SVG/1.1/DTD/svg11.dtd\">\n",
       "<!-- Generated by graphviz version 7.0.0 (20221023.0053)\n",
       " -->\n",
       "<!-- Pages: 1 -->\n",
       "<svg width=\"1161pt\" height=\"128pt\"\n",
       " viewBox=\"0.00 0.00 1161.00 128.00\" xmlns=\"http://www.w3.org/2000/svg\" xmlns:xlink=\"http://www.w3.org/1999/xlink\">\n",
       "<g id=\"graph0\" class=\"graph\" transform=\"scale(1 1) rotate(0) translate(4 124)\">\n",
       "<polygon fill=\"white\" stroke=\"none\" points=\"-4,4 -4,-124 1157,-124 1157,4 -4,4\"/>\n",
       "<!-- 4405191680 -->\n",
       "<g id=\"node1\" class=\"node\">\n",
       "<title>4405191680</title>\n",
       "<polygon fill=\"none\" stroke=\"black\" points=\"954,-54.5 954,-90.5 1153,-90.5 1153,-54.5 954,-54.5\"/>\n",
       "<text text-anchor=\"middle\" x=\"966.5\" y=\"-68.8\" font-family=\"Times,serif\" font-size=\"14.00\">L</text>\n",
       "<polyline fill=\"none\" stroke=\"black\" points=\"979,-54.5 979,-90.5\"/>\n",
       "<text text-anchor=\"middle\" x=\"1025\" y=\"-68.8\" font-family=\"Times,serif\" font-size=\"14.00\">data &#45;34.0000</text>\n",
       "<polyline fill=\"none\" stroke=\"black\" points=\"1071,-54.5 1071,-90.5\"/>\n",
       "<text text-anchor=\"middle\" x=\"1112\" y=\"-68.8\" font-family=\"Times,serif\" font-size=\"14.00\">grad 0.0000</text>\n",
       "</g>\n",
       "<!-- 4405191680* -->\n",
       "<g id=\"node2\" class=\"node\">\n",
       "<title>4405191680*</title>\n",
       "<ellipse fill=\"none\" stroke=\"black\" cx=\"891\" cy=\"-72.5\" rx=\"27\" ry=\"18\"/>\n",
       "<text text-anchor=\"middle\" x=\"891\" y=\"-68.8\" font-family=\"Times,serif\" font-size=\"14.00\">*</text>\n",
       "</g>\n",
       "<!-- 4405191680*&#45;&gt;4405191680 -->\n",
       "<g id=\"edge1\" class=\"edge\">\n",
       "<title>4405191680*&#45;&gt;4405191680</title>\n",
       "<path fill=\"none\" stroke=\"black\" d=\"M918.14,-72.5C925.47,-72.5 933.92,-72.5 942.95,-72.5\"/>\n",
       "<polygon fill=\"black\" stroke=\"black\" points=\"942.69,-76 952.69,-72.5 942.69,-69 942.69,-76\"/>\n",
       "</g>\n",
       "<!-- 4405701648 -->\n",
       "<g id=\"node3\" class=\"node\">\n",
       "<title>4405701648</title>\n",
       "<polygon fill=\"none\" stroke=\"black\" points=\"638,-82.5 638,-118.5 826,-118.5 826,-82.5 638,-82.5\"/>\n",
       "<text text-anchor=\"middle\" x=\"648.5\" y=\"-96.8\" font-family=\"Times,serif\" font-size=\"14.00\">f</text>\n",
       "<polyline fill=\"none\" stroke=\"black\" points=\"659,-82.5 659,-118.5\"/>\n",
       "<text text-anchor=\"middle\" x=\"701.5\" y=\"-96.8\" font-family=\"Times,serif\" font-size=\"14.00\">data &#45;2.0000</text>\n",
       "<polyline fill=\"none\" stroke=\"black\" points=\"744,-82.5 744,-118.5\"/>\n",
       "<text text-anchor=\"middle\" x=\"785\" y=\"-96.8\" font-family=\"Times,serif\" font-size=\"14.00\">grad 0.0000</text>\n",
       "</g>\n",
       "<!-- 4405701648&#45;&gt;4405191680* -->\n",
       "<g id=\"edge5\" class=\"edge\">\n",
       "<title>4405701648&#45;&gt;4405191680*</title>\n",
       "<path fill=\"none\" stroke=\"black\" d=\"M825.69,-83.97C835.35,-82.25 844.71,-80.58 853.16,-79.07\"/>\n",
       "<polygon fill=\"black\" stroke=\"black\" points=\"853.72,-82.53 862.95,-77.32 852.49,-75.63 853.72,-82.53\"/>\n",
       "</g>\n",
       "<!-- 4405191200 -->\n",
       "<g id=\"node4\" class=\"node\">\n",
       "<title>4405191200</title>\n",
       "<polygon fill=\"none\" stroke=\"black\" points=\"3.5,-83.5 3.5,-119.5 188.5,-119.5 188.5,-83.5 3.5,-83.5\"/>\n",
       "<text text-anchor=\"middle\" x=\"15\" y=\"-97.8\" font-family=\"Times,serif\" font-size=\"14.00\">a</text>\n",
       "<polyline fill=\"none\" stroke=\"black\" points=\"26.5,-83.5 26.5,-119.5\"/>\n",
       "<text text-anchor=\"middle\" x=\"66.5\" y=\"-97.8\" font-family=\"Times,serif\" font-size=\"14.00\">data 2.0000</text>\n",
       "<polyline fill=\"none\" stroke=\"black\" points=\"106.5,-83.5 106.5,-119.5\"/>\n",
       "<text text-anchor=\"middle\" x=\"147.5\" y=\"-97.8\" font-family=\"Times,serif\" font-size=\"14.00\">grad 0.0000</text>\n",
       "</g>\n",
       "<!-- 4405193264* -->\n",
       "<g id=\"node6\" class=\"node\">\n",
       "<title>4405193264*</title>\n",
       "<ellipse fill=\"none\" stroke=\"black\" cx=\"255\" cy=\"-73.5\" rx=\"27\" ry=\"18\"/>\n",
       "<text text-anchor=\"middle\" x=\"255\" y=\"-69.8\" font-family=\"Times,serif\" font-size=\"14.00\">*</text>\n",
       "</g>\n",
       "<!-- 4405191200&#45;&gt;4405193264* -->\n",
       "<g id=\"edge7\" class=\"edge\">\n",
       "<title>4405191200&#45;&gt;4405193264*</title>\n",
       "<path fill=\"none\" stroke=\"black\" d=\"M188.33,-85.21C198.55,-83.39 208.48,-81.62 217.39,-80.03\"/>\n",
       "<polygon fill=\"black\" stroke=\"black\" points=\"217.73,-83.52 226.96,-78.32 216.5,-76.63 217.73,-83.52\"/>\n",
       "</g>\n",
       "<!-- 4405193264 -->\n",
       "<g id=\"node5\" class=\"node\">\n",
       "<title>4405193264</title>\n",
       "<polygon fill=\"none\" stroke=\"black\" points=\"318,-55.5 318,-91.5 510,-91.5 510,-55.5 318,-55.5\"/>\n",
       "<text text-anchor=\"middle\" x=\"329.5\" y=\"-69.8\" font-family=\"Times,serif\" font-size=\"14.00\">e</text>\n",
       "<polyline fill=\"none\" stroke=\"black\" points=\"341,-55.5 341,-91.5\"/>\n",
       "<text text-anchor=\"middle\" x=\"384.5\" y=\"-69.8\" font-family=\"Times,serif\" font-size=\"14.00\">data 20.0000</text>\n",
       "<polyline fill=\"none\" stroke=\"black\" points=\"428,-55.5 428,-91.5\"/>\n",
       "<text text-anchor=\"middle\" x=\"469\" y=\"-69.8\" font-family=\"Times,serif\" font-size=\"14.00\">grad 0.0000</text>\n",
       "</g>\n",
       "<!-- 4405192256+ -->\n",
       "<g id=\"node8\" class=\"node\">\n",
       "<title>4405192256+</title>\n",
       "<ellipse fill=\"none\" stroke=\"black\" cx=\"573\" cy=\"-45.5\" rx=\"27\" ry=\"18\"/>\n",
       "<text text-anchor=\"middle\" x=\"573\" y=\"-41.8\" font-family=\"Times,serif\" font-size=\"14.00\">+</text>\n",
       "</g>\n",
       "<!-- 4405193264&#45;&gt;4405192256+ -->\n",
       "<g id=\"edge9\" class=\"edge\">\n",
       "<title>4405193264&#45;&gt;4405192256+</title>\n",
       "<path fill=\"none\" stroke=\"black\" d=\"M509.95,-56.57C518.87,-54.98 527.49,-53.44 535.33,-52.04\"/>\n",
       "<polygon fill=\"black\" stroke=\"black\" points=\"535.84,-55.5 545.07,-50.3 534.61,-48.61 535.84,-55.5\"/>\n",
       "</g>\n",
       "<!-- 4405193264*&#45;&gt;4405193264 -->\n",
       "<g id=\"edge2\" class=\"edge\">\n",
       "<title>4405193264*&#45;&gt;4405193264</title>\n",
       "<path fill=\"none\" stroke=\"black\" d=\"M282.28,-73.5C289.52,-73.5 297.85,-73.5 306.72,-73.5\"/>\n",
       "<polygon fill=\"black\" stroke=\"black\" points=\"306.69,-77 316.69,-73.5 306.69,-70 306.69,-77\"/>\n",
       "</g>\n",
       "<!-- 4405192256 -->\n",
       "<g id=\"node7\" class=\"node\">\n",
       "<title>4405192256</title>\n",
       "<polygon fill=\"none\" stroke=\"black\" points=\"636,-27.5 636,-63.5 828,-63.5 828,-27.5 636,-27.5\"/>\n",
       "<text text-anchor=\"middle\" x=\"647.5\" y=\"-41.8\" font-family=\"Times,serif\" font-size=\"14.00\">d</text>\n",
       "<polyline fill=\"none\" stroke=\"black\" points=\"659,-27.5 659,-63.5\"/>\n",
       "<text text-anchor=\"middle\" x=\"702.5\" y=\"-41.8\" font-family=\"Times,serif\" font-size=\"14.00\">data 17.0000</text>\n",
       "<polyline fill=\"none\" stroke=\"black\" points=\"746,-27.5 746,-63.5\"/>\n",
       "<text text-anchor=\"middle\" x=\"787\" y=\"-41.8\" font-family=\"Times,serif\" font-size=\"14.00\">grad 0.0000</text>\n",
       "</g>\n",
       "<!-- 4405192256&#45;&gt;4405191680* -->\n",
       "<g id=\"edge6\" class=\"edge\">\n",
       "<title>4405192256&#45;&gt;4405191680*</title>\n",
       "<path fill=\"none\" stroke=\"black\" d=\"M827.95,-61.83C836.87,-63.36 845.49,-64.85 853.33,-66.19\"/>\n",
       "<polygon fill=\"black\" stroke=\"black\" points=\"852.62,-69.62 863.07,-67.87 853.8,-62.72 852.62,-69.62\"/>\n",
       "</g>\n",
       "<!-- 4405192256+&#45;&gt;4405192256 -->\n",
       "<g id=\"edge3\" class=\"edge\">\n",
       "<title>4405192256+&#45;&gt;4405192256</title>\n",
       "<path fill=\"none\" stroke=\"black\" d=\"M600.28,-45.5C607.52,-45.5 615.85,-45.5 624.72,-45.5\"/>\n",
       "<polygon fill=\"black\" stroke=\"black\" points=\"624.69,-49 634.69,-45.5 624.69,-42 624.69,-49\"/>\n",
       "</g>\n",
       "<!-- 4405191824 -->\n",
       "<g id=\"node9\" class=\"node\">\n",
       "<title>4405191824</title>\n",
       "<polygon fill=\"none\" stroke=\"black\" points=\"0,-28.5 0,-64.5 192,-64.5 192,-28.5 0,-28.5\"/>\n",
       "<text text-anchor=\"middle\" x=\"11.5\" y=\"-42.8\" font-family=\"Times,serif\" font-size=\"14.00\">c</text>\n",
       "<polyline fill=\"none\" stroke=\"black\" points=\"23,-28.5 23,-64.5\"/>\n",
       "<text text-anchor=\"middle\" x=\"66.5\" y=\"-42.8\" font-family=\"Times,serif\" font-size=\"14.00\">data 10.0000</text>\n",
       "<polyline fill=\"none\" stroke=\"black\" points=\"110,-28.5 110,-64.5\"/>\n",
       "<text text-anchor=\"middle\" x=\"151\" y=\"-42.8\" font-family=\"Times,serif\" font-size=\"14.00\">grad 0.0000</text>\n",
       "</g>\n",
       "<!-- 4405191824&#45;&gt;4405193264* -->\n",
       "<g id=\"edge8\" class=\"edge\">\n",
       "<title>4405191824&#45;&gt;4405193264*</title>\n",
       "<path fill=\"none\" stroke=\"black\" d=\"M191.95,-62.83C200.87,-64.36 209.49,-65.85 217.33,-67.19\"/>\n",
       "<polygon fill=\"black\" stroke=\"black\" points=\"216.62,-70.62 227.07,-68.87 217.8,-63.72 216.62,-70.62\"/>\n",
       "</g>\n",
       "<!-- 4405194608 -->\n",
       "<g id=\"node10\" class=\"node\">\n",
       "<title>4405194608</title>\n",
       "<polygon fill=\"none\" stroke=\"black\" points=\"319,-0.5 319,-36.5 509,-36.5 509,-0.5 319,-0.5\"/>\n",
       "<text text-anchor=\"middle\" x=\"330.5\" y=\"-14.8\" font-family=\"Times,serif\" font-size=\"14.00\">b</text>\n",
       "<polyline fill=\"none\" stroke=\"black\" points=\"342,-0.5 342,-36.5\"/>\n",
       "<text text-anchor=\"middle\" x=\"384.5\" y=\"-14.8\" font-family=\"Times,serif\" font-size=\"14.00\">data &#45;3.0000</text>\n",
       "<polyline fill=\"none\" stroke=\"black\" points=\"427,-0.5 427,-36.5\"/>\n",
       "<text text-anchor=\"middle\" x=\"468\" y=\"-14.8\" font-family=\"Times,serif\" font-size=\"14.00\">grad 0.0000</text>\n",
       "</g>\n",
       "<!-- 4405194608&#45;&gt;4405192256+ -->\n",
       "<g id=\"edge4\" class=\"edge\">\n",
       "<title>4405194608&#45;&gt;4405192256+</title>\n",
       "<path fill=\"none\" stroke=\"black\" d=\"M508.59,-34.6C517.95,-36.2 527,-37.76 535.21,-39.17\"/>\n",
       "<polygon fill=\"black\" stroke=\"black\" points=\"534.6,-42.62 545.05,-40.87 535.79,-35.72 534.6,-42.62\"/>\n",
       "</g>\n",
       "</g>\n",
       "</svg>\n"
      ],
      "text/plain": [
       "<graphviz.graphs.Digraph at 0x1069b9940>"
      ]
     },
     "execution_count": 9,
     "metadata": {},
     "output_type": "execute_result"
    }
   ],
   "source": [
    "draw_dot(L)"
   ]
  },
  {
   "cell_type": "code",
   "execution_count": 10,
   "id": "a66c3d91",
   "metadata": {},
   "outputs": [
    {
     "name": "stdout",
     "output_type": "stream",
     "text": [
      "Value(data=-34.0)\n"
     ]
    }
   ],
   "source": [
    "# Loss data in final form\n",
    "a.data += 0.01 * a.grad\n",
    "b.data += 0.01 * b.grad\n",
    "c.data += 0.01 * c.grad\n",
    "f.data += 0.01 * f.grad\n",
    "\n",
    "e = a * c\n",
    "d = e + b\n",
    "L = d * f\n",
    "\n",
    "print (L)"
   ]
  },
  {
   "cell_type": "code",
   "execution_count": 11,
   "id": "3662548d",
   "metadata": {},
   "outputs": [],
   "source": [
    "L.grad = 1"
   ]
  },
  {
   "cell_type": "code",
   "execution_count": 12,
   "id": "4f4272e5",
   "metadata": {},
   "outputs": [],
   "source": [
    "f.grad = 17\n",
    "d.grad = -2\n",
    "# a.grad calculating dL/da = (dL / de) * (de / da) = -2 * 10 = -20 \n",
    "# c.grad calculating dL/dc = (dL / de) * (de / dc) = -2 * 2 = -4 \n",
    "\n",
    "a.grad = -20\n",
    "c.grad = -4"
   ]
  },
  {
   "cell_type": "code",
   "execution_count": 13,
   "id": "5e927f80",
   "metadata": {},
   "outputs": [
    {
     "name": "stdout",
     "output_type": "stream",
     "text": [
      "-3.999999999997783\n"
     ]
    }
   ],
   "source": [
    "def lol():\n",
    "    \n",
    "    h = 0.001\n",
    "    \n",
    "    a = Value(2.0, label = 'a')\n",
    "    b = Value(-3.0, label = 'b')\n",
    "    c = Value(10.0, label = 'c')\n",
    "    e = a * c; e.label = 'e'\n",
    "    d = e + b; d.label = 'd'\n",
    "    f = Value(-2.0, label = 'f')\n",
    "    L = d * f; L.label = 'L'\n",
    "    L1=L.data\n",
    "    \n",
    "    a = Value(2.0, label = 'a')\n",
    "    #a.data += h\n",
    "    b = Value(-3.0, label = 'b')\n",
    "    #b.data += h\n",
    "    c = Value(10.0, label = 'c')\n",
    "    c.data += h\n",
    "    e = a * c; e.label = 'e'\n",
    "    #e.data += h\n",
    "    d = e + b; d.label = 'd'\n",
    "    #d.data += h\n",
    "    f = Value(-2.0, label = 'f')\n",
    "    #f.data += h\n",
    "    L = d * f; L.label = 'L'\n",
    "    L2=L.data\n",
    "    \n",
    "    print((L2-L1)/h)\n",
    "    \n",
    "lol()"
   ]
  },
  {
   "cell_type": "code",
   "execution_count": 14,
   "id": "14b225a7",
   "metadata": {},
   "outputs": [],
   "source": [
    "b.grad = -2\n",
    "e.grad = -2"
   ]
  },
  {
   "cell_type": "code",
   "execution_count": 15,
   "id": "fc4220b3",
   "metadata": {},
   "outputs": [
    {
     "data": {
      "image/png": "[encoded data removed]",
      "text/plain": [
       "<Figure size 432x288 with 1 Axes>"
      ]
     },
     "metadata": {
      "needs_background": "light"
     },
     "output_type": "display_data"
    }
   ],
   "source": [
    "plt.plot(np.arange(-5,5,0.2), np.tanh(np.arange(-5,5,0.2)));plt.grid();"
   ]
  },
  {
   "cell_type": "code",
   "execution_count": 16,
   "id": "520a72b4",
   "metadata": {},
   "outputs": [],
   "source": [
    "# inputs x1,x2\n",
    "x1 = Value(2.0, label='x1')\n",
    "x2 = Value(0.0, label='x2')\n",
    "# weights w1,w2\n",
    "w1 = Value(-3.0, label='w1')\n",
    "w2 = Value(1.0, label='w2')\n",
    "# bias of the neuron\n",
    "b = Value(6.8813735870195432, label='b')\n",
    "# x1*w1 + x2*w2 + b\n",
    "x1w1 = x1*w1; x1w1.label = 'x1*w1'\n",
    "x2w2 = x2*w2; x2w2.label = 'x2*w2'\n",
    "x1w1x2w2 = x1w1 + x2w2; x1w1x2w2.label = 'x1*w1 + x2*w2'\n",
    "n = x1w1x2w2 + b; n.label = 'n'\n",
    "o = n.tanh(); o.label = 'o'"
   ]
  },
  {
   "cell_type": "code",
   "execution_count": 17,
   "id": "20ecc396",
   "metadata": {},
   "outputs": [],
   "source": [
    "o.grad = 1.0\n",
    "b.grad = 0.5\n",
    "x1w1x2w2.grad = 0.5\n",
    "x1w1.grad = 0.5\n",
    "x2w2.grad = 0.5\n",
    "x2.grad = w2.data * x2w2.grad\n",
    "w2.grad = x2.data * x2w2.grad\n",
    "x1.grad = w1.data * x1w1.grad\n",
    "w1.grad = x1.data * x1w1.grad"
   ]
  },
  {
   "cell_type": "code",
   "execution_count": 18,
   "id": "c858e907",
   "metadata": {},
   "outputs": [
    {
     "data": {
      "image/svg+xml": [
       "<?xml version=\"1.0\" encoding=\"UTF-8\" standalone=\"no\"?>\n",
       "<!DOCTYPE svg PUBLIC \"-//W3C//DTD SVG 1.1//EN\"\n",
       " \"http://www.w3.org/Graphics/SVG/1.1/DTD/svg11.dtd\">\n",
       "<!-- Generated by graphviz version 7.0.0 (20221023.0053)\n",
       " -->\n",
       "<!-- Pages: 1 -->\n",
       "<svg width=\"1575pt\" height=\"210pt\"\n",
       " viewBox=\"0.00 0.00 1575.00 210.00\" xmlns=\"http://www.w3.org/2000/svg\" xmlns:xlink=\"http://www.w3.org/1999/xlink\">\n",
       "<g id=\"graph0\" class=\"graph\" transform=\"scale(1 1) rotate(0) translate(4 206)\">\n",
       "<polygon fill=\"white\" stroke=\"none\" points=\"-4,4 -4,-206 1571,-206 1571,4 -4,4\"/>\n",
       "<!-- 4406685264 -->\n",
       "<g id=\"node1\" class=\"node\">\n",
       "<title>4406685264</title>\n",
       "<polygon fill=\"none\" stroke=\"black\" points=\"672,-82.5 672,-118.5 945,-118.5 945,-82.5 672,-82.5\"/>\n",
       "<text text-anchor=\"middle\" x=\"725\" y=\"-96.8\" font-family=\"Times,serif\" font-size=\"14.00\">x1*w1 + x2*w2</text>\n",
       "<polyline fill=\"none\" stroke=\"black\" points=\"778,-82.5 778,-118.5\"/>\n",
       "<text text-anchor=\"middle\" x=\"820.5\" y=\"-96.8\" font-family=\"Times,serif\" font-size=\"14.00\">data &#45;6.0000</text>\n",
       "<polyline fill=\"none\" stroke=\"black\" points=\"863,-82.5 863,-118.5\"/>\n",
       "<text text-anchor=\"middle\" x=\"904\" y=\"-96.8\" font-family=\"Times,serif\" font-size=\"14.00\">grad 0.5000</text>\n",
       "</g>\n",
       "<!-- 4406685024+ -->\n",
       "<g id=\"node12\" class=\"node\">\n",
       "<title>4406685024+</title>\n",
       "<ellipse fill=\"none\" stroke=\"black\" cx=\"1008\" cy=\"-127.5\" rx=\"27\" ry=\"18\"/>\n",
       "<text text-anchor=\"middle\" x=\"1008\" y=\"-123.8\" font-family=\"Times,serif\" font-size=\"14.00\">+</text>\n",
       "</g>\n",
       "<!-- 4406685264&#45;&gt;4406685024+ -->\n",
       "<g id=\"edge13\" class=\"edge\">\n",
       "<title>4406685264&#45;&gt;4406685024+</title>\n",
       "<path fill=\"none\" stroke=\"black\" d=\"M940.96,-118.47C951.31,-119.89 961.12,-121.23 969.85,-122.42\"/>\n",
       "<polygon fill=\"black\" stroke=\"black\" points=\"969.17,-125.86 979.56,-123.75 970.12,-118.93 969.17,-125.86\"/>\n",
       "</g>\n",
       "<!-- 4406685264+ -->\n",
       "<g id=\"node2\" class=\"node\">\n",
       "<title>4406685264+</title>\n",
       "<ellipse fill=\"none\" stroke=\"black\" cx=\"609\" cy=\"-100.5\" rx=\"27\" ry=\"18\"/>\n",
       "<text text-anchor=\"middle\" x=\"609\" y=\"-96.8\" font-family=\"Times,serif\" font-size=\"14.00\">+</text>\n",
       "</g>\n",
       "<!-- 4406685264+&#45;&gt;4406685264 -->\n",
       "<g id=\"edge1\" class=\"edge\">\n",
       "<title>4406685264+&#45;&gt;4406685264</title>\n",
       "<path fill=\"none\" stroke=\"black\" d=\"M636.23,-100.5C643.46,-100.5 651.86,-100.5 660.97,-100.5\"/>\n",
       "<polygon fill=\"black\" stroke=\"black\" points=\"660.89,-104 670.89,-100.5 660.89,-97 660.89,-104\"/>\n",
       "</g>\n",
       "<!-- 4406600848 -->\n",
       "<g id=\"node3\" class=\"node\">\n",
       "<title>4406600848</title>\n",
       "<polygon fill=\"none\" stroke=\"black\" points=\"326,-110.5 326,-146.5 546,-146.5 546,-110.5 326,-110.5\"/>\n",
       "<text text-anchor=\"middle\" x=\"352.5\" y=\"-124.8\" font-family=\"Times,serif\" font-size=\"14.00\">x1*w1</text>\n",
       "<polyline fill=\"none\" stroke=\"black\" points=\"379,-110.5 379,-146.5\"/>\n",
       "<text text-anchor=\"middle\" x=\"421.5\" y=\"-124.8\" font-family=\"Times,serif\" font-size=\"14.00\">data &#45;6.0000</text>\n",
       "<polyline fill=\"none\" stroke=\"black\" points=\"464,-110.5 464,-146.5\"/>\n",
       "<text text-anchor=\"middle\" x=\"505\" y=\"-124.8\" font-family=\"Times,serif\" font-size=\"14.00\">grad 0.5000</text>\n",
       "</g>\n",
       "<!-- 4406600848&#45;&gt;4406685264+ -->\n",
       "<g id=\"edge7\" class=\"edge\">\n",
       "<title>4406600848&#45;&gt;4406685264+</title>\n",
       "<path fill=\"none\" stroke=\"black\" d=\"M545.78,-110.69C554.79,-109.21 563.43,-107.8 571.25,-106.52\"/>\n",
       "<polygon fill=\"black\" stroke=\"black\" points=\"571.64,-110 580.94,-104.93 570.5,-103.09 571.64,-110\"/>\n",
       "</g>\n",
       "<!-- 4406600848* -->\n",
       "<g id=\"node4\" class=\"node\">\n",
       "<title>4406600848*</title>\n",
       "<ellipse fill=\"none\" stroke=\"black\" cx=\"263\" cy=\"-128.5\" rx=\"27\" ry=\"18\"/>\n",
       "<text text-anchor=\"middle\" x=\"263\" y=\"-124.8\" font-family=\"Times,serif\" font-size=\"14.00\">*</text>\n",
       "</g>\n",
       "<!-- 4406600848*&#45;&gt;4406600848 -->\n",
       "<g id=\"edge2\" class=\"edge\">\n",
       "<title>4406600848*&#45;&gt;4406600848</title>\n",
       "<path fill=\"none\" stroke=\"black\" d=\"M290.34,-128.5C297.6,-128.5 305.98,-128.5 314.97,-128.5\"/>\n",
       "<polygon fill=\"black\" stroke=\"black\" points=\"314.69,-132 324.69,-128.5 314.69,-125 314.69,-132\"/>\n",
       "</g>\n",
       "<!-- 4406512272 -->\n",
       "<g id=\"node5\" class=\"node\">\n",
       "<title>4406512272</title>\n",
       "<polygon fill=\"none\" stroke=\"black\" points=\"0,-165.5 0,-201.5 200,-201.5 200,-165.5 0,-165.5\"/>\n",
       "<text text-anchor=\"middle\" x=\"16.5\" y=\"-179.8\" font-family=\"Times,serif\" font-size=\"14.00\">w1</text>\n",
       "<polyline fill=\"none\" stroke=\"black\" points=\"33,-165.5 33,-201.5\"/>\n",
       "<text text-anchor=\"middle\" x=\"75.5\" y=\"-179.8\" font-family=\"Times,serif\" font-size=\"14.00\">data &#45;3.0000</text>\n",
       "<polyline fill=\"none\" stroke=\"black\" points=\"118,-165.5 118,-201.5\"/>\n",
       "<text text-anchor=\"middle\" x=\"159\" y=\"-179.8\" font-family=\"Times,serif\" font-size=\"14.00\">grad 1.0000</text>\n",
       "</g>\n",
       "<!-- 4406512272&#45;&gt;4406600848* -->\n",
       "<g id=\"edge6\" class=\"edge\">\n",
       "<title>4406512272&#45;&gt;4406600848*</title>\n",
       "<path fill=\"none\" stroke=\"black\" d=\"M172.27,-165.52C181.67,-162.72 191.12,-159.7 200,-156.5 210.09,-152.87 220.83,-148.29 230.48,-143.89\"/>\n",
       "<polygon fill=\"black\" stroke=\"black\" points=\"231.87,-147.11 239.45,-139.71 228.91,-140.76 231.87,-147.11\"/>\n",
       "</g>\n",
       "<!-- 4406685360 -->\n",
       "<g id=\"node6\" class=\"node\">\n",
       "<title>4406685360</title>\n",
       "<polygon fill=\"none\" stroke=\"black\" points=\"328.5,-55.5 328.5,-91.5 543.5,-91.5 543.5,-55.5 328.5,-55.5\"/>\n",
       "<text text-anchor=\"middle\" x=\"355\" y=\"-69.8\" font-family=\"Times,serif\" font-size=\"14.00\">x2*w2</text>\n",
       "<polyline fill=\"none\" stroke=\"black\" points=\"381.5,-55.5 381.5,-91.5\"/>\n",
       "<text text-anchor=\"middle\" x=\"421.5\" y=\"-69.8\" font-family=\"Times,serif\" font-size=\"14.00\">data 0.0000</text>\n",
       "<polyline fill=\"none\" stroke=\"black\" points=\"461.5,-55.5 461.5,-91.5\"/>\n",
       "<text text-anchor=\"middle\" x=\"502.5\" y=\"-69.8\" font-family=\"Times,serif\" font-size=\"14.00\">grad 0.5000</text>\n",
       "</g>\n",
       "<!-- 4406685360&#45;&gt;4406685264+ -->\n",
       "<g id=\"edge10\" class=\"edge\">\n",
       "<title>4406685360&#45;&gt;4406685264+</title>\n",
       "<path fill=\"none\" stroke=\"black\" d=\"M543.35,-90.29C553.14,-91.84 562.54,-93.32 570.99,-94.66\"/>\n",
       "<polygon fill=\"black\" stroke=\"black\" points=\"570.34,-98.1 580.76,-96.2 571.43,-91.18 570.34,-98.1\"/>\n",
       "</g>\n",
       "<!-- 4406685360* -->\n",
       "<g id=\"node7\" class=\"node\">\n",
       "<title>4406685360*</title>\n",
       "<ellipse fill=\"none\" stroke=\"black\" cx=\"263\" cy=\"-73.5\" rx=\"27\" ry=\"18\"/>\n",
       "<text text-anchor=\"middle\" x=\"263\" y=\"-69.8\" font-family=\"Times,serif\" font-size=\"14.00\">*</text>\n",
       "</g>\n",
       "<!-- 4406685360*&#45;&gt;4406685360 -->\n",
       "<g id=\"edge3\" class=\"edge\">\n",
       "<title>4406685360*&#45;&gt;4406685360</title>\n",
       "<path fill=\"none\" stroke=\"black\" d=\"M290.34,-73.5C298.24,-73.5 307.46,-73.5 317.34,-73.5\"/>\n",
       "<polygon fill=\"black\" stroke=\"black\" points=\"317.24,-77 327.24,-73.5 317.24,-70 317.24,-77\"/>\n",
       "</g>\n",
       "<!-- 4406510736 -->\n",
       "<g id=\"node8\" class=\"node\">\n",
       "<title>4406510736</title>\n",
       "<polygon fill=\"none\" stroke=\"black\" points=\"2.5,-55.5 2.5,-91.5 197.5,-91.5 197.5,-55.5 2.5,-55.5\"/>\n",
       "<text text-anchor=\"middle\" x=\"19\" y=\"-69.8\" font-family=\"Times,serif\" font-size=\"14.00\">w2</text>\n",
       "<polyline fill=\"none\" stroke=\"black\" points=\"35.5,-55.5 35.5,-91.5\"/>\n",
       "<text text-anchor=\"middle\" x=\"75.5\" y=\"-69.8\" font-family=\"Times,serif\" font-size=\"14.00\">data 1.0000</text>\n",
       "<polyline fill=\"none\" stroke=\"black\" points=\"115.5,-55.5 115.5,-91.5\"/>\n",
       "<text text-anchor=\"middle\" x=\"156.5\" y=\"-69.8\" font-family=\"Times,serif\" font-size=\"14.00\">grad 0.0000</text>\n",
       "</g>\n",
       "<!-- 4406510736&#45;&gt;4406685360* -->\n",
       "<g id=\"edge12\" class=\"edge\">\n",
       "<title>4406510736&#45;&gt;4406685360*</title>\n",
       "<path fill=\"none\" stroke=\"black\" d=\"M197.44,-73.5C206.89,-73.5 216.04,-73.5 224.32,-73.5\"/>\n",
       "<polygon fill=\"black\" stroke=\"black\" points=\"224.28,-77 234.28,-73.5 224.28,-70 224.28,-77\"/>\n",
       "</g>\n",
       "<!-- 4406510880 -->\n",
       "<g id=\"node9\" class=\"node\">\n",
       "<title>4406510880</title>\n",
       "<polygon fill=\"none\" stroke=\"black\" points=\"716,-137.5 716,-173.5 901,-173.5 901,-137.5 716,-137.5\"/>\n",
       "<text text-anchor=\"middle\" x=\"727.5\" y=\"-151.8\" font-family=\"Times,serif\" font-size=\"14.00\">b</text>\n",
       "<polyline fill=\"none\" stroke=\"black\" points=\"739,-137.5 739,-173.5\"/>\n",
       "<text text-anchor=\"middle\" x=\"779\" y=\"-151.8\" font-family=\"Times,serif\" font-size=\"14.00\">data 6.8814</text>\n",
       "<polyline fill=\"none\" stroke=\"black\" points=\"819,-137.5 819,-173.5\"/>\n",
       "<text text-anchor=\"middle\" x=\"860\" y=\"-151.8\" font-family=\"Times,serif\" font-size=\"14.00\">grad 0.5000</text>\n",
       "</g>\n",
       "<!-- 4406510880&#45;&gt;4406685024+ -->\n",
       "<g id=\"edge11\" class=\"edge\">\n",
       "<title>4406510880&#45;&gt;4406685024+</title>\n",
       "<path fill=\"none\" stroke=\"black\" d=\"M900.73,-142.57C925.29,-139.08 950.47,-135.51 970.15,-132.72\"/>\n",
       "<polygon fill=\"black\" stroke=\"black\" points=\"970.44,-136.22 979.85,-131.35 969.46,-129.29 970.44,-136.22\"/>\n",
       "</g>\n",
       "<!-- 4406510400 -->\n",
       "<g id=\"node10\" class=\"node\">\n",
       "<title>4406510400</title>\n",
       "<polygon fill=\"none\" stroke=\"black\" points=\"4,-0.5 4,-36.5 196,-36.5 196,-0.5 4,-0.5\"/>\n",
       "<text text-anchor=\"middle\" x=\"19\" y=\"-14.8\" font-family=\"Times,serif\" font-size=\"14.00\">x2</text>\n",
       "<polyline fill=\"none\" stroke=\"black\" points=\"34,-0.5 34,-36.5\"/>\n",
       "<text text-anchor=\"middle\" x=\"74\" y=\"-14.8\" font-family=\"Times,serif\" font-size=\"14.00\">data 0.0000</text>\n",
       "<polyline fill=\"none\" stroke=\"black\" points=\"114,-0.5 114,-36.5\"/>\n",
       "<text text-anchor=\"middle\" x=\"155\" y=\"-14.8\" font-family=\"Times,serif\" font-size=\"14.00\">grad 0.5000</text>\n",
       "</g>\n",
       "<!-- 4406510400&#45;&gt;4406685360* -->\n",
       "<g id=\"edge14\" class=\"edge\">\n",
       "<title>4406510400&#45;&gt;4406685360*</title>\n",
       "<path fill=\"none\" stroke=\"black\" d=\"M169.02,-36.42C179.47,-39.56 190.08,-42.95 200,-46.5 209.96,-50.06 220.59,-54.46 230.18,-58.66\"/>\n",
       "<polygon fill=\"black\" stroke=\"black\" points=\"228.54,-61.76 239.1,-62.66 231.4,-55.37 228.54,-61.76\"/>\n",
       "</g>\n",
       "<!-- 4406685024 -->\n",
       "<g id=\"node11\" class=\"node\">\n",
       "<title>4406685024</title>\n",
       "<polygon fill=\"none\" stroke=\"black\" points=\"1071,-109.5 1071,-145.5 1256,-145.5 1256,-109.5 1071,-109.5\"/>\n",
       "<text text-anchor=\"middle\" x=\"1082.5\" y=\"-123.8\" font-family=\"Times,serif\" font-size=\"14.00\">n</text>\n",
       "<polyline fill=\"none\" stroke=\"black\" points=\"1094,-109.5 1094,-145.5\"/>\n",
       "<text text-anchor=\"middle\" x=\"1134\" y=\"-123.8\" font-family=\"Times,serif\" font-size=\"14.00\">data 0.8814</text>\n",
       "<polyline fill=\"none\" stroke=\"black\" points=\"1174,-109.5 1174,-145.5\"/>\n",
       "<text text-anchor=\"middle\" x=\"1215\" y=\"-123.8\" font-family=\"Times,serif\" font-size=\"14.00\">grad 0.0000</text>\n",
       "</g>\n",
       "<!-- 4406685120tanh -->\n",
       "<g id=\"node14\" class=\"node\">\n",
       "<title>4406685120tanh</title>\n",
       "<ellipse fill=\"none\" stroke=\"black\" cx=\"1319\" cy=\"-127.5\" rx=\"27\" ry=\"18\"/>\n",
       "<text text-anchor=\"middle\" x=\"1319\" y=\"-123.8\" font-family=\"Times,serif\" font-size=\"14.00\">tanh</text>\n",
       "</g>\n",
       "<!-- 4406685024&#45;&gt;4406685120tanh -->\n",
       "<g id=\"edge9\" class=\"edge\">\n",
       "<title>4406685024&#45;&gt;4406685120tanh</title>\n",
       "<path fill=\"none\" stroke=\"black\" d=\"M1255.57,-127.5C1264.21,-127.5 1272.6,-127.5 1280.28,-127.5\"/>\n",
       "<polygon fill=\"black\" stroke=\"black\" points=\"1280.19,-131 1290.19,-127.5 1280.19,-124 1280.19,-131\"/>\n",
       "</g>\n",
       "<!-- 4406685024+&#45;&gt;4406685024 -->\n",
       "<g id=\"edge4\" class=\"edge\">\n",
       "<title>4406685024+&#45;&gt;4406685024</title>\n",
       "<path fill=\"none\" stroke=\"black\" d=\"M1035.39,-127.5C1042.62,-127.5 1050.92,-127.5 1059.74,-127.5\"/>\n",
       "<polygon fill=\"black\" stroke=\"black\" points=\"1059.64,-131 1069.64,-127.5 1059.64,-124 1059.64,-131\"/>\n",
       "</g>\n",
       "<!-- 4406685120 -->\n",
       "<g id=\"node13\" class=\"node\">\n",
       "<title>4406685120</title>\n",
       "<polygon fill=\"none\" stroke=\"black\" points=\"1382,-109.5 1382,-145.5 1567,-145.5 1567,-109.5 1382,-109.5\"/>\n",
       "<text text-anchor=\"middle\" x=\"1393.5\" y=\"-123.8\" font-family=\"Times,serif\" font-size=\"14.00\">o</text>\n",
       "<polyline fill=\"none\" stroke=\"black\" points=\"1405,-109.5 1405,-145.5\"/>\n",
       "<text text-anchor=\"middle\" x=\"1445\" y=\"-123.8\" font-family=\"Times,serif\" font-size=\"14.00\">data 0.7071</text>\n",
       "<polyline fill=\"none\" stroke=\"black\" points=\"1485,-109.5 1485,-145.5\"/>\n",
       "<text text-anchor=\"middle\" x=\"1526\" y=\"-123.8\" font-family=\"Times,serif\" font-size=\"14.00\">grad 1.0000</text>\n",
       "</g>\n",
       "<!-- 4406685120tanh&#45;&gt;4406685120 -->\n",
       "<g id=\"edge5\" class=\"edge\">\n",
       "<title>4406685120tanh&#45;&gt;4406685120</title>\n",
       "<path fill=\"none\" stroke=\"black\" d=\"M1346.39,-127.5C1353.62,-127.5 1361.92,-127.5 1370.74,-127.5\"/>\n",
       "<polygon fill=\"black\" stroke=\"black\" points=\"1370.64,-131 1380.64,-127.5 1370.64,-124 1370.64,-131\"/>\n",
       "</g>\n",
       "<!-- 4406511600 -->\n",
       "<g id=\"node15\" class=\"node\">\n",
       "<title>4406511600</title>\n",
       "<polygon fill=\"none\" stroke=\"black\" points=\"2,-110.5 2,-146.5 198,-146.5 198,-110.5 2,-110.5\"/>\n",
       "<text text-anchor=\"middle\" x=\"17\" y=\"-124.8\" font-family=\"Times,serif\" font-size=\"14.00\">x1</text>\n",
       "<polyline fill=\"none\" stroke=\"black\" points=\"32,-110.5 32,-146.5\"/>\n",
       "<text text-anchor=\"middle\" x=\"72\" y=\"-124.8\" font-family=\"Times,serif\" font-size=\"14.00\">data 2.0000</text>\n",
       "<polyline fill=\"none\" stroke=\"black\" points=\"112,-110.5 112,-146.5\"/>\n",
       "<text text-anchor=\"middle\" x=\"155\" y=\"-124.8\" font-family=\"Times,serif\" font-size=\"14.00\">grad &#45;1.5000</text>\n",
       "</g>\n",
       "<!-- 4406511600&#45;&gt;4406600848* -->\n",
       "<g id=\"edge8\" class=\"edge\">\n",
       "<title>4406511600&#45;&gt;4406600848*</title>\n",
       "<path fill=\"none\" stroke=\"black\" d=\"M197.91,-128.5C207.21,-128.5 216.21,-128.5 224.38,-128.5\"/>\n",
       "<polygon fill=\"black\" stroke=\"black\" points=\"224.18,-132 234.18,-128.5 224.18,-125 224.18,-132\"/>\n",
       "</g>\n",
       "</g>\n",
       "</svg>\n"
      ],
      "text/plain": [
       "<graphviz.graphs.Digraph at 0x106a90670>"
      ]
     },
     "execution_count": 18,
     "metadata": {},
     "output_type": "execute_result"
    }
   ],
   "source": [
    "draw_dot(o)"
   ]
  },
  {
   "cell_type": "code",
   "execution_count": 19,
   "id": "89d0b2a6",
   "metadata": {},
   "outputs": [],
   "source": [
    "o.grad = 1.0"
   ]
  },
  {
   "cell_type": "code",
   "execution_count": 20,
   "id": "9d0271f6",
   "metadata": {},
   "outputs": [],
   "source": [
    "o._backward()"
   ]
  },
  {
   "cell_type": "code",
   "execution_count": 21,
   "id": "71a9d5fa",
   "metadata": {},
   "outputs": [
    {
     "ename": "TypeError",
     "evalue": "_backward() missing 2 required positional arguments: 'self' and 'other'",
     "output_type": "error",
     "traceback": [
      "\u001b[0;31m---------------------------------------------------------------------------\u001b[0m",
      "\u001b[0;31mTypeError\u001b[0m                                 Traceback (most recent call last)",
      "\u001b[0;32m<ipython-input-21-befa9ebb566d>\u001b[0m in \u001b[0;36m<module>\u001b[0;34m\u001b[0m\n\u001b[0;32m----> 1\u001b[0;31m \u001b[0mn\u001b[0m\u001b[0;34m.\u001b[0m\u001b[0m_backward\u001b[0m\u001b[0;34m(\u001b[0m\u001b[0;34m)\u001b[0m\u001b[0;34m\u001b[0m\u001b[0;34m\u001b[0m\u001b[0m\n\u001b[0m",
      "\u001b[0;31mTypeError\u001b[0m: _backward() missing 2 required positional arguments: 'self' and 'other'"
     ]
    }
   ],
   "source": [
    "n._backward()"
   ]
  },
  {
   "cell_type": "code",
   "execution_count": null,
   "id": "6e8e0d23",
   "metadata": {},
   "outputs": [],
   "source": [
    "# o = tanh(n)\n",
    "# do/dn = 1 - o**2\n",
    "1-o.data**2"
   ]
  },
  {
   "cell_type": "code",
   "execution_count": null,
   "id": "30d7c89f",
   "metadata": {},
   "outputs": [],
   "source": [
    "n.grad = 0.5"
   ]
  },
  {
   "cell_type": "code",
   "execution_count": null,
   "id": "014f9276",
   "metadata": {},
   "outputs": [],
   "source": []
  }
 ],
 "metadata": {
  "kernelspec": {
   "display_name": "Python 3",
   "language": "python",
   "name": "python3"
  },
  "language_info": {
   "codemirror_mode": {
    "name": "ipython",
    "version": 3
   },
   "file_extension": ".py",
   "mimetype": "text/x-python",
   "name": "python",
   "nbconvert_exporter": "python",
   "pygments_lexer": "ipython3",
   "version": "3.9.1"
  }
 },
 "nbformat": 4,
 "nbformat_minor": 5
}
