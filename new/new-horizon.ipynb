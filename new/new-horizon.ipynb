{
 "cells": [
  {
   "cell_type": "code",
   "execution_count": 1,
   "id": "22859ca9",
   "metadata": {},
   "outputs": [],
   "source": [
    "# split the name and correspoding gender if it need or not\n",
    "# train model with that dataset\n",
    "# see percentages of loss, correctess and other statistical details if it train \n",
    "# compare and fine tune \n",
    "# train with gpu \n",
    "\n",
    "# P(X, y=male)   = (P(y=male/X)P(X))/P(y=male)\n",
    "# P(X, y=female) = (P(y=female/X)P(X))/P(y=female)"
   ]
  },
  {
   "cell_type": "code",
   "execution_count": 1,
   "id": "38ebcb73",
   "metadata": {},
   "outputs": [],
   "source": [
    "import csv\n",
    "import torch\n",
    "import pandas as pd\n",
    "import numpy as nm\n",
    "import matplotlib.pyplot as plt\n",
    "%matplotlib inline\n",
    "\n",
    "from sklearn.naive_bayes import GaussianNB\n",
    "from sklearn import preprocessing \n",
    "from sklearn.model_selection import train_test_split"
   ]
  },
  {
   "cell_type": "code",
   "execution_count": 2,
   "id": "578c4fc5",
   "metadata": {},
   "outputs": [
    {
     "data": {
      "text/plain": [
       "['Mary,F', 'Anna,F', 'Emma,F', 'Elizabeth,F', 'Minnie,F']"
      ]
     },
     "execution_count": 2,
     "metadata": {},
     "output_type": "execute_result"
    }
   ],
   "source": [
    "df = open('names_gender.txt', 'r').read().splitlines()\n",
    "df[0:5]"
   ]
  },
  {
   "cell_type": "code",
   "execution_count": 3,
   "id": "8283227d",
   "metadata": {},
   "outputs": [
    {
     "data": {
      "text/plain": [
       "[('Mary', 'F'),\n",
       " ('Anna', 'F'),\n",
       " ('Emma', 'F'),\n",
       " ('Elizabeth', 'F'),\n",
       " ('Minnie', 'F')]"
      ]
     },
     "execution_count": 3,
     "metadata": {},
     "output_type": "execute_result"
    }
   ],
   "source": [
    "dataset = []\n",
    "for d in df:\n",
    "    name, gender = d.split(',')\n",
    "    dataset.append((name, gender))\n",
    "dataset[:5]"
   ]
  },
  {
   "cell_type": "code",
   "execution_count": 4,
   "id": "6a8e8a3c",
   "metadata": {},
   "outputs": [
    {
     "data": {
      "text/plain": [
       "109173"
      ]
     },
     "execution_count": 4,
     "metadata": {},
     "output_type": "execute_result"
    }
   ],
   "source": [
    "len(dataset)"
   ]
  },
  {
   "cell_type": "code",
   "execution_count": null,
   "id": "73b29e40",
   "metadata": {},
   "outputs": [],
   "source": []
  }
 ],
 "metadata": {
  "kernelspec": {
   "display_name": "Python 3 (ipykernel)",
   "language": "python",
   "name": "python3"
  },
  "language_info": {
   "codemirror_mode": {
    "name": "ipython",
    "version": 3
   },
   "file_extension": ".py",
   "mimetype": "text/x-python",
   "name": "python",
   "nbconvert_exporter": "python",
   "pygments_lexer": "ipython3",
   "version": "3.11.3"
  }
 },
 "nbformat": 4,
 "nbformat_minor": 5
}
