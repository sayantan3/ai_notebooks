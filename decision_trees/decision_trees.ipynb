{
 "cells": [
  {
   "cell_type": "code",
   "execution_count": 1,
   "id": "c5315f25-6791-4191-85be-8f47ef3c67ff",
   "metadata": {},
   "outputs": [],
   "source": [
    "from sklearn import tree\n",
    "import pandas as pd\n",
    "from sklearn.model_selection import train_test_split\n",
    "from sklearn import preprocessing"
   ]
  },
  {
   "cell_type": "code",
   "execution_count": 3,
   "id": "3d13c1ad-b339-45c3-9926-288da0bd513a",
   "metadata": {},
   "outputs": [],
   "source": [
    "# Read the Dataset\n",
    "dataset = pd.read_csv(\"~/fun/ai_notebooks/iris.csv\")\n",
    "label_encoder = preprocessing.LabelEncoder()\n",
    "dataset[\"species\"]= label_encoder.fit_transform(dataset[\"Species\"]) # Encoding Output Variable"
   ]
  },
  {
   "cell_type": "code",
   "execution_count": 5,
   "id": "03c62c43-8134-4ee9-b8c6-cfa71c4508ed",
   "metadata": {},
   "outputs": [],
   "source": [
    "# Separating the Input and Output Columns\n",
    "X = dataset[[\"SepalLengthCm\", \"SepalWidthCm\", \"PetalLengthCm\", \"PetalWidthCm\"]]\n",
    "y = dataset[\"Species\"]\n",
    "X_train, X_test, y_train, y_test = train_test_split(X, y, random_state=0, train_size=0.7)"
   ]
  },
  {
   "cell_type": "code",
   "execution_count": 6,
   "id": "9599f9ca-1dea-4ebf-b486-eb0818944b4f",
   "metadata": {},
   "outputs": [
    {
     "name": "stdout",
     "output_type": "stream",
     "text": [
      "The accuracy on test set is 0.98\n"
     ]
    }
   ],
   "source": [
    "clf = tree.DecisionTreeClassifier().fit(X_train, y_train)\n",
    "print(\"The accuracy on test set is {0:.2f}\".format(clf.score(X_test, y_test)))"
   ]
  },
  {
   "cell_type": "code",
   "execution_count": 7,
   "id": "1913e047-12ad-4db6-b8c1-7d109934a141",
   "metadata": {},
   "outputs": [
    {
     "name": "stdout",
     "output_type": "stream",
     "text": [
      "|--- PetalWidthCm <= 0.8\n",
      "|   |--- class: Iris-setosa\n",
      "|--- PetalWidthCm >  0.8\n",
      "|   |--- PetalLengthCm <= 5.0\n",
      "|   |   |--- PetalWidthCm <= 1.7\n",
      "|   |   |   |--- class: Iris-versicolor\n",
      "|   |   |--- PetalWidthCm >  1.7\n",
      "|   |   |   |--- SepalWidthCm <= 3.1\n",
      "|   |   |   |   |--- class: Iris-virginica\n",
      "|   |   |   |--- SepalWidthCm >  3.1\n",
      "|   |   |   |   |--- class: Iris-versicolor\n",
      "|   |--- PetalLengthCm >  5.0\n",
      "|   |   |--- PetalLengthCm <= 5.0\n",
      "|   |   |   |--- SepalLengthCm <= 6.5\n",
      "|   |   |   |   |--- class: Iris-virginica\n",
      "|   |   |   |--- SepalLengthCm >  6.5\n",
      "|   |   |   |   |--- class: Iris-versicolor\n",
      "|   |   |--- PetalLengthCm >  5.0\n",
      "|   |   |   |--- class: Iris-virginica\n",
      "\n"
     ]
    }
   ],
   "source": [
    "# Displaying the Rules formed by the Tree\n",
    "from sklearn.tree import export_text\n",
    "print(export_text(clf, feature_names=list(X.columns), spacing=3, decimals=1))"
   ]
  },
  {
   "cell_type": "code",
   "execution_count": null,
   "id": "8ee98a83-7edd-483f-858b-9084943f6c06",
   "metadata": {},
   "outputs": [],
   "source": []
  }
 ],
 "metadata": {
  "kernelspec": {
   "display_name": "Python 3 (ipykernel)",
   "language": "python",
   "name": "python3"
  },
  "language_info": {
   "codemirror_mode": {
    "name": "ipython",
    "version": 3
   },
   "file_extension": ".py",
   "mimetype": "text/x-python",
   "name": "python",
   "nbconvert_exporter": "python",
   "pygments_lexer": "ipython3",
   "version": "3.9.7"
  }
 },
 "nbformat": 4,
 "nbformat_minor": 5
}
